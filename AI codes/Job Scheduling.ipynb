{
 "cells": [
  {
   "cell_type": "code",
   "execution_count": 1,
   "id": "4284bbaa",
   "metadata": {},
   "outputs": [
    {
     "name": "stdout",
     "output_type": "stream",
     "text": [
      "Jobs scheduled: ['j2', 'j3', 'j4', 'j5']\n",
      "292\n"
     ]
    }
   ],
   "source": [
    "profit = [10, 15, 27, 100, 150]\n",
    "jobs = [\"j1\", \"j2\", \"j3\", \"j4\", \"j5\"]\n",
    "deadline = [2, 3, 3, 3, 4]\n",
    "profitNJobs = sorted(zip(profit, jobs, deadline), key=lambda x: x[0], reverse=True)\n",
    "slot = [0] * len(jobs)\n",
    "profit = 0\n",
    "ans = ['null'] * len(jobs)\n",
    "\n",
    "for i in range(len(jobs)):\n",
    "    job = profitNJobs[i]\n",
    "    for j in range(job[2], 0, -1):\n",
    "        if slot[j] == 0:\n",
    "            ans[j] = job[1]\n",
    "            profit += job[0]\n",
    "            slot[j] = 1\n",
    "            break\n",
    "\n",
    "print(\"Jobs scheduled:\", ans[1:])\n",
    "print(profit)"
   ]
  },
  {
   "cell_type": "code",
   "execution_count": null,
   "id": "7e0f5b4a",
   "metadata": {},
   "outputs": [],
   "source": []
  }
 ],
 "metadata": {
  "kernelspec": {
   "display_name": "Python 3 (ipykernel)",
   "language": "python",
   "name": "python3"
  },
  "language_info": {
   "codemirror_mode": {
    "name": "ipython",
    "version": 3
   },
   "file_extension": ".py",
   "mimetype": "text/x-python",
   "name": "python",
   "nbconvert_exporter": "python",
   "pygments_lexer": "ipython3",
   "version": "3.9.6"
  }
 },
 "nbformat": 4,
 "nbformat_minor": 5
}
