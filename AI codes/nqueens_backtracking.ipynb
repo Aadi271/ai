{
 "cells": [
  {
   "cell_type": "code",
   "execution_count": 2,
   "id": "eb4f9221",
   "metadata": {},
   "outputs": [
    {
     "name": "stdout",
     "output_type": "stream",
     "text": [
      ". Q . . \n",
      ". . . Q \n",
      "Q . . . \n",
      ". . Q . \n",
      "\n",
      ". . Q . \n",
      "Q . . . \n",
      ". . . Q \n",
      ". Q . . \n",
      "\n"
     ]
    }
   ],
   "source": [
    "def is_safe(board, row, col):\n",
    "    for i in range(row):\n",
    "        if board[i] == col or board[i] - i == col - row or board[i] + i == col + row:\n",
    "            return False\n",
    "    return True\n",
    "\n",
    "def solve_n_queens(n):\n",
    "    def backtrack(board, row):\n",
    "        if row == n:\n",
    "            result.append(board[:])\n",
    "            return\n",
    "\n",
    "        for col in range(n):\n",
    "            if is_safe(board, row, col):\n",
    "                board[row] = col\n",
    "                backtrack(board, row + 1)\n",
    "\n",
    "    result = []\n",
    "    board = [-1] * n\n",
    "    backtrack(board, 0)\n",
    "    return result\n",
    "\n",
    "def print_solutions(solutions):\n",
    "    for placement in solutions:\n",
    "        for row in placement:\n",
    "            for col in range(len(placement)):\n",
    "                print('Q ' if row == col else '. ', end='')\n",
    "            print()\n",
    "        print()\n",
    "\n",
    "n = 4  # Number of queens\n",
    "solutions = solve_n_queens(n)\n",
    "print_solutions(solutions)\n",
    "\n"
   ]
  }
 ],
 "metadata": {
  "kernelspec": {
   "display_name": "Python 3 (ipykernel)",
   "language": "python",
   "name": "python3"
  },
  "language_info": {
   "codemirror_mode": {
    "name": "ipython",
    "version": 3
   },
   "file_extension": ".py",
   "mimetype": "text/x-python",
   "name": "python",
   "nbconvert_exporter": "python",
   "pygments_lexer": "ipython3",
   "version": "3.9.6"
  }
 },
 "nbformat": 4,
 "nbformat_minor": 5
}
